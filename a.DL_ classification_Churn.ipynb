{
 "cells": [
  {
   "cell_type": "markdown",
   "metadata": {},
   "source": [
    "# **Churn Modelling**"
   ]
  },
  {
   "cell_type": "code",
   "execution_count": 1,
   "metadata": {},
   "outputs": [],
   "source": [
    "import pandas as pd\n",
    "import numpy as np\n",
    "import matplotlib.pyplot as plt\n",
    "import seaborn as sns\n",
    "from sklearn.preprocessing import LabelEncoder\n",
    "from sklearn.preprocessing import OneHotEncoder\n",
    "from sklearn.compose import ColumnTransformer\n",
    "from sklearn.preprocessing import StandardScaler\n",
    "from sklearn.model_selection import train_test_split\n",
    "from sklearn.metrics import mean_absolute_error,r2_score\n",
    "from sklearn.linear_model import LogisticRegression"
   ]
  },
  {
   "attachments": {},
   "cell_type": "markdown",
   "metadata": {},
   "source": [
    "# **Loading the dataset**"
   ]
  },
  {
   "cell_type": "code",
   "execution_count": 2,
   "metadata": {},
   "outputs": [],
   "source": [
    "df = pd.read_csv(\"Churn_Modelling.csv\")"
   ]
  },
  {
   "cell_type": "code",
   "execution_count": 3,
   "metadata": {},
   "outputs": [
    {
     "data": {
      "text/html": [
       "<div>\n",
       "<style scoped>\n",
       "    .dataframe tbody tr th:only-of-type {\n",
       "        vertical-align: middle;\n",
       "    }\n",
       "\n",
       "    .dataframe tbody tr th {\n",
       "        vertical-align: top;\n",
       "    }\n",
       "\n",
       "    .dataframe thead th {\n",
       "        text-align: right;\n",
       "    }\n",
       "</style>\n",
       "<table border=\"1\" class=\"dataframe\">\n",
       "  <thead>\n",
       "    <tr style=\"text-align: right;\">\n",
       "      <th></th>\n",
       "      <th>RowNumber</th>\n",
       "      <th>CustomerId</th>\n",
       "      <th>Surname</th>\n",
       "      <th>CreditScore</th>\n",
       "      <th>Geography</th>\n",
       "      <th>Gender</th>\n",
       "      <th>Age</th>\n",
       "      <th>Tenure</th>\n",
       "      <th>Balance</th>\n",
       "      <th>NumOfProducts</th>\n",
       "      <th>HasCrCard</th>\n",
       "      <th>IsActiveMember</th>\n",
       "      <th>EstimatedSalary</th>\n",
       "      <th>Exited</th>\n",
       "    </tr>\n",
       "  </thead>\n",
       "  <tbody>\n",
       "    <tr>\n",
       "      <th>0</th>\n",
       "      <td>1</td>\n",
       "      <td>15634602</td>\n",
       "      <td>Hargrave</td>\n",
       "      <td>619</td>\n",
       "      <td>France</td>\n",
       "      <td>Female</td>\n",
       "      <td>42</td>\n",
       "      <td>2</td>\n",
       "      <td>0.00</td>\n",
       "      <td>1</td>\n",
       "      <td>1</td>\n",
       "      <td>1</td>\n",
       "      <td>101348.88</td>\n",
       "      <td>1</td>\n",
       "    </tr>\n",
       "    <tr>\n",
       "      <th>1</th>\n",
       "      <td>2</td>\n",
       "      <td>15647311</td>\n",
       "      <td>Hill</td>\n",
       "      <td>608</td>\n",
       "      <td>Spain</td>\n",
       "      <td>Female</td>\n",
       "      <td>41</td>\n",
       "      <td>1</td>\n",
       "      <td>83807.86</td>\n",
       "      <td>1</td>\n",
       "      <td>0</td>\n",
       "      <td>1</td>\n",
       "      <td>112542.58</td>\n",
       "      <td>0</td>\n",
       "    </tr>\n",
       "    <tr>\n",
       "      <th>2</th>\n",
       "      <td>3</td>\n",
       "      <td>15619304</td>\n",
       "      <td>Onio</td>\n",
       "      <td>502</td>\n",
       "      <td>France</td>\n",
       "      <td>Female</td>\n",
       "      <td>42</td>\n",
       "      <td>8</td>\n",
       "      <td>159660.80</td>\n",
       "      <td>3</td>\n",
       "      <td>1</td>\n",
       "      <td>0</td>\n",
       "      <td>113931.57</td>\n",
       "      <td>1</td>\n",
       "    </tr>\n",
       "    <tr>\n",
       "      <th>3</th>\n",
       "      <td>4</td>\n",
       "      <td>15701354</td>\n",
       "      <td>Boni</td>\n",
       "      <td>699</td>\n",
       "      <td>France</td>\n",
       "      <td>Female</td>\n",
       "      <td>39</td>\n",
       "      <td>1</td>\n",
       "      <td>0.00</td>\n",
       "      <td>2</td>\n",
       "      <td>0</td>\n",
       "      <td>0</td>\n",
       "      <td>93826.63</td>\n",
       "      <td>0</td>\n",
       "    </tr>\n",
       "    <tr>\n",
       "      <th>4</th>\n",
       "      <td>5</td>\n",
       "      <td>15737888</td>\n",
       "      <td>Mitchell</td>\n",
       "      <td>850</td>\n",
       "      <td>Spain</td>\n",
       "      <td>Female</td>\n",
       "      <td>43</td>\n",
       "      <td>2</td>\n",
       "      <td>125510.82</td>\n",
       "      <td>1</td>\n",
       "      <td>1</td>\n",
       "      <td>1</td>\n",
       "      <td>79084.10</td>\n",
       "      <td>0</td>\n",
       "    </tr>\n",
       "  </tbody>\n",
       "</table>\n",
       "</div>"
      ],
      "text/plain": [
       "   RowNumber  CustomerId   Surname  CreditScore Geography  Gender  Age  \\\n",
       "0          1    15634602  Hargrave          619    France  Female   42   \n",
       "1          2    15647311      Hill          608     Spain  Female   41   \n",
       "2          3    15619304      Onio          502    France  Female   42   \n",
       "3          4    15701354      Boni          699    France  Female   39   \n",
       "4          5    15737888  Mitchell          850     Spain  Female   43   \n",
       "\n",
       "   Tenure    Balance  NumOfProducts  HasCrCard  IsActiveMember  \\\n",
       "0       2       0.00              1          1               1   \n",
       "1       1   83807.86              1          0               1   \n",
       "2       8  159660.80              3          1               0   \n",
       "3       1       0.00              2          0               0   \n",
       "4       2  125510.82              1          1               1   \n",
       "\n",
       "   EstimatedSalary  Exited  \n",
       "0        101348.88       1  \n",
       "1        112542.58       0  \n",
       "2        113931.57       1  \n",
       "3         93826.63       0  \n",
       "4         79084.10       0  "
      ]
     },
     "execution_count": 3,
     "metadata": {},
     "output_type": "execute_result"
    }
   ],
   "source": [
    "df.head()"
   ]
  },
  {
   "attachments": {},
   "cell_type": "markdown",
   "metadata": {},
   "source": [
    "# **Checking Missing values**"
   ]
  },
  {
   "cell_type": "code",
   "execution_count": 4,
   "metadata": {},
   "outputs": [
    {
     "name": "stdout",
     "output_type": "stream",
     "text": [
      "<class 'pandas.core.frame.DataFrame'>\n",
      "RangeIndex: 10000 entries, 0 to 9999\n",
      "Data columns (total 14 columns):\n",
      " #   Column           Non-Null Count  Dtype  \n",
      "---  ------           --------------  -----  \n",
      " 0   RowNumber        10000 non-null  int64  \n",
      " 1   CustomerId       10000 non-null  int64  \n",
      " 2   Surname          10000 non-null  object \n",
      " 3   CreditScore      10000 non-null  int64  \n",
      " 4   Geography        10000 non-null  object \n",
      " 5   Gender           10000 non-null  object \n",
      " 6   Age              10000 non-null  int64  \n",
      " 7   Tenure           10000 non-null  int64  \n",
      " 8   Balance          10000 non-null  float64\n",
      " 9   NumOfProducts    10000 non-null  int64  \n",
      " 10  HasCrCard        10000 non-null  int64  \n",
      " 11  IsActiveMember   10000 non-null  int64  \n",
      " 12  EstimatedSalary  10000 non-null  float64\n",
      " 13  Exited           10000 non-null  int64  \n",
      "dtypes: float64(2), int64(9), object(3)\n",
      "memory usage: 1.1+ MB\n"
     ]
    }
   ],
   "source": [
    "df.info()"
   ]
  },
  {
   "attachments": {},
   "cell_type": "markdown",
   "metadata": {},
   "source": [
    "There is no missing data "
   ]
  },
  {
   "attachments": {},
   "cell_type": "markdown",
   "metadata": {},
   "source": [
    "# **Dependent and independent variable**"
   ]
  },
  {
   "cell_type": "code",
   "execution_count": 5,
   "metadata": {},
   "outputs": [],
   "source": [
    "X = df.iloc[:,3:-1]\n",
    "y = df['Exited']"
   ]
  },
  {
   "cell_type": "markdown",
   "metadata": {},
   "source": [
    "# **Encoding Categorical Variable**"
   ]
  },
  {
   "cell_type": "code",
   "execution_count": 6,
   "metadata": {},
   "outputs": [],
   "source": [
    "# label encoder can be done on only single dimentional array\n",
    "le = LabelEncoder()\n",
    "X['Gender'] = le.fit_transform(X['Gender'])"
   ]
  },
  {
   "cell_type": "code",
   "execution_count": 7,
   "metadata": {},
   "outputs": [
    {
     "name": "stderr",
     "output_type": "stream",
     "text": [
      "c:\\Users\\DELL\\AppData\\Local\\Programs\\Python\\Python311\\Lib\\site-packages\\sklearn\\preprocessing\\_encoders.py:868: FutureWarning: `sparse` was renamed to `sparse_output` in version 1.2 and will be removed in 1.4. `sparse_output` is ignored unless you leave `sparse` to its default value.\n",
      "  warnings.warn(\n"
     ]
    },
    {
     "data": {
      "text/plain": [
       "array([[0.0000000e+00, 0.0000000e+00, 6.1900000e+02, ..., 1.0000000e+00,\n",
       "        1.0000000e+00, 1.0134888e+05],\n",
       "       [0.0000000e+00, 1.0000000e+00, 6.0800000e+02, ..., 0.0000000e+00,\n",
       "        1.0000000e+00, 1.1254258e+05],\n",
       "       [0.0000000e+00, 0.0000000e+00, 5.0200000e+02, ..., 1.0000000e+00,\n",
       "        0.0000000e+00, 1.1393157e+05],\n",
       "       ...,\n",
       "       [0.0000000e+00, 0.0000000e+00, 7.0900000e+02, ..., 0.0000000e+00,\n",
       "        1.0000000e+00, 4.2085580e+04],\n",
       "       [1.0000000e+00, 0.0000000e+00, 7.7200000e+02, ..., 1.0000000e+00,\n",
       "        0.0000000e+00, 9.2888520e+04],\n",
       "       [0.0000000e+00, 0.0000000e+00, 7.9200000e+02, ..., 1.0000000e+00,\n",
       "        0.0000000e+00, 3.8190780e+04]])"
      ]
     },
     "execution_count": 7,
     "metadata": {},
     "output_type": "execute_result"
    }
   ],
   "source": [
    "# array should be 2-D in one hot encoding\n",
    "ct = ColumnTransformer(transformers=[(\"encode\",OneHotEncoder(drop=\"first\",sparse=False),[1])],remainder=\"passthrough\")\n",
    "X = ct.fit_transform(X)\n",
    "X\n",
    "# drop = first to avoid dummy variable trap (region southwest)\n",
    "# sparse false to stop sparse compression"
   ]
  },
  {
   "attachments": {},
   "cell_type": "markdown",
   "metadata": {},
   "source": [
    "# **Scaling**"
   ]
  },
  {
   "cell_type": "code",
   "execution_count": 8,
   "metadata": {},
   "outputs": [
    {
     "data": {
      "text/plain": [
       "array([[-0.57873591, -0.57380915, -0.32622142, ...,  0.64609167,\n",
       "         0.97024255,  0.02188649],\n",
       "       [-0.57873591,  1.74273971, -0.44003595, ..., -1.54776799,\n",
       "         0.97024255,  0.21653375],\n",
       "       [-0.57873591, -0.57380915, -1.53679418, ...,  0.64609167,\n",
       "        -1.03067011,  0.2406869 ],\n",
       "       ...,\n",
       "       [-0.57873591, -0.57380915,  0.60498839, ..., -1.54776799,\n",
       "         0.97024255, -1.00864308],\n",
       "       [ 1.72790383, -0.57380915,  1.25683526, ...,  0.64609167,\n",
       "        -1.03067011, -0.12523071],\n",
       "       [-0.57873591, -0.57380915,  1.46377078, ...,  0.64609167,\n",
       "        -1.03067011, -1.07636976]])"
      ]
     },
     "execution_count": 8,
     "metadata": {},
     "output_type": "execute_result"
    }
   ],
   "source": [
    "sc = StandardScaler()\n",
    "X = sc.fit_transform(X)\n",
    "X"
   ]
  },
  {
   "attachments": {},
   "cell_type": "markdown",
   "metadata": {},
   "source": [
    "# **Splitting**"
   ]
  },
  {
   "cell_type": "code",
   "execution_count": 9,
   "metadata": {},
   "outputs": [
    {
     "name": "stdout",
     "output_type": "stream",
     "text": [
      "float64\n",
      "7389    0\n",
      "9275    0\n",
      "2995    0\n",
      "5316    0\n",
      "356     0\n",
      "       ..\n",
      "9225    0\n",
      "4859    0\n",
      "3264    0\n",
      "9845    0\n",
      "2732    1\n",
      "Name: Exited, Length: 8000, dtype: int64\n"
     ]
    }
   ],
   "source": [
    "X_train,X_test,y_train,y_test = train_test_split(X,y,test_size=0.2,random_state=0)\n",
    "print(X_train.dtype)\n",
    "print(y_train)"
   ]
  },
  {
   "cell_type": "markdown",
   "metadata": {},
   "source": [
    "# **Tensorflow**"
   ]
  },
  {
   "cell_type": "code",
   "execution_count": 10,
   "metadata": {},
   "outputs": [],
   "source": [
    "import tensorflow as tf"
   ]
  },
  {
   "cell_type": "code",
   "execution_count": 11,
   "metadata": {},
   "outputs": [],
   "source": [
    "# make structure # compile - how to train # fit "
   ]
  },
  {
   "cell_type": "code",
   "execution_count": 12,
   "metadata": {},
   "outputs": [],
   "source": [
    "ann = tf.keras.models.Sequential()"
   ]
  },
  {
   "cell_type": "code",
   "execution_count": 23,
   "metadata": {},
   "outputs": [],
   "source": [
    "# Input layers\n",
    "ann.add(tf.keras.layers.Input(shape=11)) # make 11 input neuron \n",
    "# Hidden Layer\n",
    "ann.add(tf.keras.layers.Dense(20,activation=\"relu\"))\n",
    "# Dropout layer to avoid overfitting\n",
    "#ann.add(tf.keras.layers.Dropout(0.2))\n",
    "\n",
    "#ann.add(tf.keras.layers.Dense(10,activation=\"relu\"))\n",
    "\n",
    "# output layer\n",
    "ann.add(tf.keras.layers.Dense(1,activation='sigmoid'))   "
   ]
  },
  {
   "cell_type": "markdown",
   "metadata": {},
   "source": [
    "**Activation Function**\n",
    "\n",
    "- linear\n",
    "- relu  - rectified linear unit\n",
    "- elu = exponential linear unit\n",
    "- sigmoid\n",
    "- softmax\n",
    "- sogtplus\n",
    "- tanh = tangent hyperbolic funtion\n",
    "\n",
    "**Advanced**\n",
    "- leaky relu                          \n",
    "so on---"
   ]
  },
  {
   "cell_type": "markdown",
   "metadata": {},
   "source": [
    "why last output have sigmoid func? = "
   ]
  },
  {
   "cell_type": "code",
   "execution_count": 34,
   "metadata": {},
   "outputs": [
    {
     "data": {
      "text/plain": [
       "'optimizers = a func to update the parameter of neural network'"
      ]
     },
     "execution_count": 34,
     "metadata": {},
     "output_type": "execute_result"
    }
   ],
   "source": [
    "# compile \n",
    "ann.compile(optimizer=tf.keras.optimizers.Adam(learning_rate=0.01),loss='binary_crossentropy',metrics=[\"accuracy\"])\n",
    "'''optimizers = a func to update the parameter of neural network'''#(adam,rms prop,sgd,adadelta)"
   ]
  },
  {
   "cell_type": "code",
   "execution_count": 35,
   "metadata": {},
   "outputs": [
    {
     "name": "stdout",
     "output_type": "stream",
     "text": [
      "Epoch 1/80\n"
     ]
    },
    {
     "name": "stdout",
     "output_type": "stream",
     "text": [
      "250/250 [==============================] - 7s 10ms/step - loss: 0.4639 - accuracy: 0.8008 - val_loss: 0.4285 - val_accuracy: 0.8185\n",
      "Epoch 2/80\n",
      "250/250 [==============================] - 2s 8ms/step - loss: 0.4050 - accuracy: 0.8324 - val_loss: 0.3741 - val_accuracy: 0.8420\n",
      "Epoch 3/80\n",
      "250/250 [==============================] - 2s 10ms/step - loss: 0.3846 - accuracy: 0.8445 - val_loss: 0.3595 - val_accuracy: 0.8560\n",
      "Epoch 4/80\n",
      "250/250 [==============================] - 2s 9ms/step - loss: 0.3676 - accuracy: 0.8494 - val_loss: 0.3473 - val_accuracy: 0.8615\n",
      "Epoch 5/80\n",
      "250/250 [==============================] - 3s 10ms/step - loss: 0.3665 - accuracy: 0.8504 - val_loss: 0.3478 - val_accuracy: 0.8555\n",
      "Epoch 6/80\n",
      "250/250 [==============================] - 2s 7ms/step - loss: 0.3629 - accuracy: 0.8460 - val_loss: 0.3549 - val_accuracy: 0.8565\n",
      "Epoch 7/80\n",
      "250/250 [==============================] - 2s 9ms/step - loss: 0.3632 - accuracy: 0.8522 - val_loss: 0.3482 - val_accuracy: 0.8640\n",
      "Epoch 8/80\n",
      "250/250 [==============================] - 3s 10ms/step - loss: 0.3541 - accuracy: 0.8556 - val_loss: 0.3449 - val_accuracy: 0.8575\n",
      "Epoch 9/80\n",
      "250/250 [==============================] - 2s 9ms/step - loss: 0.3543 - accuracy: 0.8554 - val_loss: 0.3637 - val_accuracy: 0.8575\n",
      "Epoch 10/80\n",
      "250/250 [==============================] - 2s 8ms/step - loss: 0.3565 - accuracy: 0.8580 - val_loss: 0.3440 - val_accuracy: 0.8640\n",
      "Epoch 11/80\n",
      "250/250 [==============================] - 1s 6ms/step - loss: 0.3521 - accuracy: 0.8558 - val_loss: 0.3412 - val_accuracy: 0.8635\n",
      "Epoch 12/80\n",
      "250/250 [==============================] - 2s 7ms/step - loss: 0.3547 - accuracy: 0.8558 - val_loss: 0.3524 - val_accuracy: 0.8610\n",
      "Epoch 13/80\n",
      "250/250 [==============================] - 2s 8ms/step - loss: 0.3517 - accuracy: 0.8570 - val_loss: 0.3377 - val_accuracy: 0.8620\n",
      "Epoch 14/80\n",
      "250/250 [==============================] - 2s 6ms/step - loss: 0.3514 - accuracy: 0.8609 - val_loss: 0.3450 - val_accuracy: 0.8640\n",
      "Epoch 15/80\n",
      "250/250 [==============================] - 2s 7ms/step - loss: 0.3532 - accuracy: 0.8584 - val_loss: 0.3412 - val_accuracy: 0.8665\n",
      "Epoch 16/80\n",
      "250/250 [==============================] - 2s 6ms/step - loss: 0.3494 - accuracy: 0.8554 - val_loss: 0.3418 - val_accuracy: 0.8650\n",
      "Epoch 17/80\n",
      "250/250 [==============================] - 2s 7ms/step - loss: 0.3477 - accuracy: 0.8593 - val_loss: 0.3377 - val_accuracy: 0.8650\n"
     ]
    }
   ],
   "source": [
    "# fit \n",
    "# callback \n",
    "model_checkpoint = tf.keras.callbacks.ModelCheckpoint(filepath=\"model.h5\",save_best_only=True)\n",
    "# early stoping\n",
    "early_stoping = tf.keras.callbacks.EarlyStopping(patience=4)\n",
    "# above code will stop the epoches when loss will not alter\n",
    "history=ann.fit(X_train,y_train,validation_data=(X_test,y_test),epochs=80,batch_size=32,callbacks=[model_checkpoint,early_stoping])"
   ]
  },
  {
   "cell_type": "markdown",
   "metadata": {},
   "source": [
    "# **Learning Curve**"
   ]
  },
  {
   "cell_type": "code",
   "execution_count": 36,
   "metadata": {},
   "outputs": [
    {
     "name": "stdout",
     "output_type": "stream",
     "text": [
      "{'loss': [0.4638563394546509, 0.404997318983078, 0.38455671072006226, 0.3676183819770813, 0.3664712905883789, 0.36293089389801025, 0.36317482590675354, 0.35412076115608215, 0.3542690575122833, 0.35646378993988037, 0.3521491587162018, 0.35470718145370483, 0.35171911120414734, 0.3513685464859009, 0.3532319664955139, 0.34941452741622925, 0.3477019667625427], 'accuracy': [0.8007500171661377, 0.8323749899864197, 0.8445000052452087, 0.8493750095367432, 0.8503749966621399, 0.8460000157356262, 0.8522499799728394, 0.8556249737739563, 0.8553749918937683, 0.8579999804496765, 0.8557500243186951, 0.8557500243186951, 0.8569999933242798, 0.8608750104904175, 0.8583750128746033, 0.8553749918937683, 0.859250009059906], 'val_loss': [0.4285051226615906, 0.3740985691547394, 0.3594658374786377, 0.3472910225391388, 0.3478069603443146, 0.35487842559814453, 0.3481895327568054, 0.34494465589523315, 0.36367619037628174, 0.3440283238887787, 0.34119275212287903, 0.35240569710731506, 0.33765411376953125, 0.34495097398757935, 0.3412373960018158, 0.3418290317058563, 0.3377339243888855], 'val_accuracy': [0.8184999823570251, 0.8420000076293945, 0.8560000061988831, 0.8615000247955322, 0.8554999828338623, 0.8565000295639038, 0.8640000224113464, 0.8575000166893005, 0.8575000166893005, 0.8640000224113464, 0.8634999990463257, 0.8610000014305115, 0.8619999885559082, 0.8640000224113464, 0.8665000200271606, 0.8650000095367432, 0.8650000095367432]}\n"
     ]
    }
   ],
   "source": [
    "# to know the loss of each epoche\n",
    "error=history.history\n",
    "print(error)"
   ]
  },
  {
   "cell_type": "code",
   "execution_count": 40,
   "metadata": {},
   "outputs": [],
   "source": [
    "# plt.plot(range(1,80),error['loss'])\n",
    "# plt.plot(range(1,80),error['val_loss'])\n",
    "\n",
    "# plt.title(\"Value_loss vs train_loss\")\n",
    "# plt.xlabel(\"no. of epoches\")\n",
    "# plt.ylabel(\"loss\")\n",
    "# plt.legend([\"Train loss\",\"Val loss\"])\n",
    "# plt.show()\n",
    "\n",
    "# it will run when we do not take eaarly stopping parameter"
   ]
  },
  {
   "cell_type": "code",
   "execution_count": null,
   "metadata": {},
   "outputs": [],
   "source": []
  }
 ],
 "metadata": {
  "kernelspec": {
   "display_name": "Python 3",
   "language": "python",
   "name": "python3"
  },
  "language_info": {
   "codemirror_mode": {
    "name": "ipython",
    "version": 3
   },
   "file_extension": ".py",
   "mimetype": "text/x-python",
   "name": "python",
   "nbconvert_exporter": "python",
   "pygments_lexer": "ipython3",
   "version": "3.11.4"
  },
  "orig_nbformat": 4
 },
 "nbformat": 4,
 "nbformat_minor": 2
}
